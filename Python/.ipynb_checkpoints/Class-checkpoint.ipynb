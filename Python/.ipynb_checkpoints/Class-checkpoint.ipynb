{
 "cells": [
  {
   "cell_type": "code",
   "execution_count": 4,
   "metadata": {},
   "outputs": [],
   "source": [
    "import pandas as pd\n",
    "import numpy as np\n",
    "from matplotlib import pyplot as plt\n",
    "import seaborn as sns\n",
    "from collections import Counter\n",
    "import requests"
   ]
  },
  {
   "cell_type": "code",
   "execution_count": 5,
   "metadata": {},
   "outputs": [],
   "source": [
    "# https://www.travelpayouts.com/developers/api#close-modal    для апи\n",
    "# токен   cf7bd64146c1f32d099bc9a96d767ad6\n",
    "# Партнерский маркер    288286"
   ]
  },
  {
   "cell_type": "code",
   "execution_count": 14,
   "metadata": {},
   "outputs": [
    {
     "name": "stdout",
     "output_type": "stream",
     "text": [
      "This is a parser for Aviasales API\n"
     ]
    }
   ],
   "source": [
    "class AviasalesParser:\n",
    "    \"\"\" \n",
    "    This is a class for parsing information about tickets for the last 48 hours from aviasales.com.\n",
    "    API request returns departure and destination places, dates, number of changes, cost of the ticket,\n",
    "    distance between departure and destination, time and date of the moment when the ticket was found,\n",
    "    site of purchase\n",
    "    Connection to the REST API is established with the use of token.\n",
    "    \"\"\"\n",
    "    \n",
    "    def __init__(self, url):\n",
    "        try:\n",
    "            self.__req = requests.get(url, timeout = 10).json()\n",
    "        \n",
    "        except requests.exceptions.ReadTimeout:\n",
    "            print('Read timeout occured')\n",
    "        except requests.exceptions.ConnectTimeout:\n",
    "            print('Connection timeout occured')\n",
    "        except requests.exceptions.ConnectionError:\n",
    "            print('Connection Error occured')\n",
    "        except requests.exceptions.HTTPError as err:\n",
    "            print('HTTP Error occured')\n",
    "    \n",
    "    def get_data(self):\n",
    "        \"\"\"\n",
    "        Gets needed data from the rest request\n",
    "        \"\"\"\n",
    "        if self.__req is not None or self.__req.status_code:\n",
    "            data = self.__req['data']\n",
    "            return data\n",
    "        else:\n",
    "            print('No data recieved')\n",
    "    \n",
    "    @staticmethod\n",
    "    def number_of_chages_value(data):\n",
    "        \"\"\"\n",
    "        Collect the information about the number of changes and cost of the ticket\n",
    "        into the dictionary \n",
    "        \"\"\"\n",
    "        \n",
    "        dictionary = {}\n",
    "        for elem in data:\n",
    "            if elem['number_of_changes'] not in dictionary.keys():\n",
    "                dictionary[elem['number_of_changes']] = [elem['value']]\n",
    "            else:\n",
    "                dictionary[elem['number_of_changes']].append(elem['value'])\n",
    "        return dictionary\n",
    "    \n",
    "    @staticmethod\n",
    "    def gates_aggregation(data, most_comm = 15):\n",
    "        \"\"\"\n",
    "        Count number of gates in founded tickets\n",
    "        \"\"\"\n",
    "        all_gates = [data[i]['gate'] for i in range(len(data))]\n",
    "        count_number_of_gates = Counter(all_gates).most_common(most_comm)\n",
    "        \n",
    "        return count_number_of_gates\n",
    "    \n",
    "    @staticmethod\n",
    "    def dates_costs_aggregation(data, most_comm = 10):\n",
    "        \"\"\"\n",
    "        Calculate mean price for different dates\n",
    "        \"\"\"\n",
    "        all_dates_costs = [(data[i]['depart_date'], data[i]['value']) for i in range(len(data))]\n",
    "        all_dates_costs_df = pd.DataFrame(all_dates_costs, columns = ['date', 'value']).sort_values(by='date', ascending = True)\n",
    "        all_dates_costs_mean = all_dates_costs_df.groupby(['date']).mean().head(most_comm)\n",
    "        return all_dates_costs_mean\n",
    "    \n",
    "    @staticmethod\n",
    "    def distance_duration_aggregation(data):\n",
    "        \"\"\"\n",
    "        Aggregate distance and duration of flights\n",
    "        Flights do not have transfer\n",
    "        \"\"\"\n",
    "        distance_duration = [(data[i]['distance'],data[i]['duration']) for i in range(len(data)) if data[i]['number_of_changes'] == 0]\n",
    "        distance_duration_pd = pd.DataFrame(distance_duration, columns = ['duration', 'distance']).sort_values(by='distance')\n",
    "        \n",
    "        return distance_duration_pd\n",
    "    \n",
    "    \n",
    "    def final_aggregation(self, data = None):\n",
    "        \"\"\"\n",
    "        Returns all statistics in one dict\n",
    "        \"\"\"\n",
    "        if data is None:\n",
    "            print('Did not recieve the answer')\n",
    "            return None\n",
    "        else:\n",
    "            number_of_chages_value_agg= self.number_of_chages_value(data)\n",
    "            gates_agg = self.gates_aggregation(data)\n",
    "            dates_costs_agg = self.dates_costs_aggregation(data)\n",
    "            distance_duration_agg = self.distance_duration_aggregation(data)\n",
    "        \n",
    "        return {'gates_agg': gates_agg, \n",
    "                'dates_costs_agg': dates_costs_agg, \n",
    "                'distance_duration_agg': distance_duration_agg,\n",
    "                'number_of_chages_value_agg': number_of_chages_value_agg}\n",
    "    \n",
    "    \n",
    "    if __name__ == '__main__':\n",
    "        print('This is a parser for Aviasales API')"
   ]
  },
  {
   "cell_type": "code",
   "execution_count": 15,
   "metadata": {},
   "outputs": [],
   "source": [
    "url = 'http://api.travelpayouts.com/v2/prices/latest?'\n",
    "currency = 'currency=rub'\n",
    "period = 'period=year'\n",
    "page = 'page=1'\n",
    "limit = 'limit=500'\n",
    "show_to_affiliates = 'show_to_affiliates=true'\n",
    "sorting = 'sorting=price'\n",
    "token = 'token=cf7bd64146c1f32d099bc9a96d767ad6'\n",
    "url = url + '&'.join([currency, period, page, limit, show_to_affiliates, sorting, token])"
   ]
  },
  {
   "cell_type": "code",
   "execution_count": 16,
   "metadata": {},
   "outputs": [],
   "source": [
    "parser = AviasalesParser(url)\n",
    "req = parser.get_data()"
   ]
  },
  {
   "cell_type": "markdown",
   "metadata": {},
   "source": [
    "**Смотрим сколько в среднем стоит билет в зависимости от количества пересадок**"
   ]
  },
  {
   "cell_type": "code",
   "execution_count": 17,
   "metadata": {},
   "outputs": [
    {
     "data": {
      "image/png": "[encoded data removed]",
      "text/plain": [
       "<Figure size 432x288 with 1 Axes>"
      ]
     },
     "metadata": {
      "needs_background": "light"
     },
     "output_type": "display_data"
    }
   ],
   "source": [
    "changes_value = parser.final_aggregation(req)['number_of_chages_value_agg']\n",
    "changes_value_mean = [np.mean(changes_value[i]) for i in range(len(changes_value))]\n",
    "\n",
    "fig, ax = plt.subplots()\n",
    "ax.bar(changes_value.keys(), changes_value_mean, width = 0.5, tick_label = changes_value_mean, color = 'green')\n",
    "ax.set_xticks(np.arange(len(changes_value.keys())))\n",
    "ax.set_xticklabels(['0 персадок', '1 пересадка', '2 пересадки'])\n",
    "plt.show()"
   ]
  },
  {
   "cell_type": "markdown",
   "metadata": {},
   "source": [
    "**Распределение стоимости билета без пересадок**"
   ]
  },
  {
   "cell_type": "code",
   "execution_count": 18,
   "metadata": {},
   "outputs": [
    {
     "data": {
      "text/plain": [
       "<matplotlib.axes._subplots.AxesSubplot at 0x1fdfbcf6b00>"
      ]
     },
     "execution_count": 18,
     "metadata": {},
     "output_type": "execute_result"
    },
    {
     "data": {
      "image/png": "[encoded data removed]",
      "text/plain": [
       "<Figure size 432x288 with 1 Axes>"
      ]
     },
     "metadata": {
      "needs_background": "light"
     },
     "output_type": "display_data"
    }
   ],
   "source": [
    "sns.boxplot(x = changes_value[0], orient = 'h')"
   ]
  },
  {
   "cell_type": "markdown",
   "metadata": {},
   "source": [
    "**Самые популярные источники для покупки авиабилета**"
   ]
  },
  {
   "cell_type": "code",
   "execution_count": 19,
   "metadata": {},
   "outputs": [
    {
     "data": {
      "text/plain": [
       "<matplotlib.axes._subplots.AxesSubplot at 0x1fdfc029eb8>"
      ]
     },
     "execution_count": 19,
     "metadata": {},
     "output_type": "execute_result"
    },
    {
     "data": {
      "image/png": "[encoded data removed]",
      "text/plain": [
       "<Figure size 432x288 with 1 Axes>"
      ]
     },
     "metadata": {
      "needs_background": "light"
     },
     "output_type": "display_data"
    }
   ],
   "source": [
    "data_gates = parser.final_aggregation(req)['gates_agg']\n",
    "sns.barplot(x = 'cnt', y = 'name', \n",
    "            data = pd.DataFrame(data_gates, columns = ['name', 'cnt']))"
   ]
  },
  {
   "cell_type": "markdown",
   "metadata": {},
   "source": [
    "**Средняя стоимость билетов по дням**"
   ]
  },
  {
   "cell_type": "code",
   "execution_count": 20,
   "metadata": {},
   "outputs": [
    {
     "data": {
      "text/plain": [
       "<matplotlib.axes._subplots.AxesSubplot at 0x1fdfc0c4a58>"
      ]
     },
     "execution_count": 20,
     "metadata": {},
     "output_type": "execute_result"
    },
    {
     "data": {
      "image/png": "[encoded data removed]",
      "text/plain": [
       "<Figure size 432x288 with 1 Axes>"
      ]
     },
     "metadata": {
      "needs_background": "light"
     },
     "output_type": "display_data"
    }
   ],
   "source": [
    "data_costs = parser.final_aggregation(req)['dates_costs_agg']\n",
    "data_costs.plot(kind='barh', colormap = 'Spectral')"
   ]
  },
  {
   "cell_type": "markdown",
   "metadata": {},
   "source": [
    "**Зависимость расстояния между пунктами и длительности полета без пересадок**"
   ]
  },
  {
   "cell_type": "code",
   "execution_count": 21,
   "metadata": {},
   "outputs": [
    {
     "data": {
      "text/plain": [
       "<matplotlib.axes._subplots.AxesSubplot at 0x1fdfc18a668>"
      ]
     },
     "execution_count": 21,
     "metadata": {},
     "output_type": "execute_result"
    },
    {
     "data": {
      "image/png": "[encoded data removed]",
      "text/plain": [
       "<Figure size 432x288 with 1 Axes>"
      ]
     },
     "metadata": {
      "needs_background": "light"
     },
     "output_type": "display_data"
    }
   ],
   "source": [
    "distance_duration = parser.final_aggregation(req)['distance_duration_agg']\n",
    "distance_duration.plot(x = 'distance', y = 'duration', kind = 'line')"
   ]
  },
  {
   "cell_type": "code",
   "execution_count": null,
   "metadata": {},
   "outputs": [],
   "source": []
  }
 ],
 "metadata": {
  "kernelspec": {
   "display_name": "Python 3",
   "language": "python",
   "name": "python3"
  },
  "language_info": {
   "codemirror_mode": {
    "name": "ipython",
    "version": 3
   },
   "file_extension": ".py",
   "mimetype": "text/x-python",
   "name": "python",
   "nbconvert_exporter": "python",
   "pygments_lexer": "ipython3",
   "version": "3.7.3"
  }
 },
 "nbformat": 4,
 "nbformat_minor": 2
}
